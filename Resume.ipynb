{
  "cells": [
    {
      "cell_type": "raw",
      "metadata": {},
      "source": [
        "---\n",
        "title: \"Resume\"\n",
        "editor: visual\n",
        "---"
      ],
      "id": "2f762a47"
    },
    {
      "cell_type": "markdown",
      "metadata": {},
      "source": [
        "## I have 2 resumes! Isn't that fun. One of these resumes highlights my more \"professional\" work experiences\n",
        "\n",
        "-   Resume (2024):\n",
        "    -   \n",
        "![](resumejapplegate2024.pdf){width=100% height=475px}\n"
      ],
      "id": "65c14696"
    },
    {
      "cell_type": "raw",
      "metadata": {},
      "source": [
        "---\n",
        "title: Resume\n",
        "description: \"Jessica Applegate's Resume\"\n",
        "date: 2023-02-28\n",
        "title-block-banner: \"#771C6D\"\n",
        "published-title: CV last updated\n",
        "engine: knitr\n",
        "freeze: false\n",
        "cv:\n",
        "  pdf: \"resumejapplegate2024.pdf\"\n",
        "---"
      ],
      "id": "07f61231"
    },
    {
      "cell_type": "markdown",
      "metadata": {},
      "source": [
        "```{css, echo=FALSE}\n",
        "#title-block-header .description {\n",
        "    display: none;\n",
        "}\n",
        "```\n",
        "\n",
        "```{css echo=FALSE}\n",
        ".embed-container {\n",
        "    position: relative;\n",
        "    padding-bottom: 129%;\n",
        "    height: 0;\n",
        "    overflow: hidden;\n",
        "    max-width: 100%;\n",
        "}\n",
        "\n",
        ".embed-container iframe,\n",
        ".embed-container object,\n",
        ".embed-container embed {\n",
        "    position: absolute;\n",
        "    top: 0;\n",
        "    left: 0;\n",
        "    width: 100%;\n",
        "    height: 100%;\n",
        "}\n",
        "```\n",
        "\n",
        "```{=html}\n",
        "<p class=\"text-center\">\n",
        "  <a class=\"btn btn-primary btn-lg cv-download\" href=\"`r rmarkdown::metadata$cv$pdf`\" target=\"_blank\">\n",
        "    <i class=\"fa-solid fa-file-arrow-down\"></i>&ensp;Download current CV\n",
        "  </a>\n",
        "</p>\n",
        "\n",
        "<div class=\"embed-container\">\n",
        "  <iframe src=\"`r rmarkdown::metadata$cv$pdf`\" style=\"border: 0.5px\"></iframe>\n",
        "</div>\n",
        "```"
      ],
      "id": "b77194cf"
    }
  ],
  "metadata": {
    "kernelspec": {
      "display_name": "Python 3",
      "language": "python",
      "name": "python3"
    }
  },
  "nbformat": 4,
  "nbformat_minor": 5
}